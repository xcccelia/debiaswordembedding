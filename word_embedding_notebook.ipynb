{
  "nbformat": 4,
  "nbformat_minor": 0,
  "metadata": {
    "kernelspec": {
      "display_name": "Python 3",
      "language": "python",
      "name": "python3"
    },
    "language_info": {
      "codemirror_mode": {
        "name": "ipython",
        "version": 3
      },
      "file_extension": ".py",
      "mimetype": "text/x-python",
      "name": "python",
      "nbconvert_exporter": "python",
      "pygments_lexer": "ipython3",
      "version": "3.8.5"
    },
    "colab": {
      "name": "Copy of Celia Final 2.0.ipynb",
      "provenance": []
    }
  },
  "cells": [
    {
      "cell_type": "code",
      "metadata": {
        "id": "mYWrnkfZtrsb"
      },
      "source": [
        "import numpy as np\n",
        "from scipy.sparse.linalg import svds\n",
        "from matplotlib import pyplot as plt\n",
        "from sklearn.decomposition import TruncatedSVD\n",
        "from sklearn.decomposition import PCA\n",
        "\n",
        "import pandas as pd\n",
        "\n",
        "import gensim\n",
        "import seaborn as sns\n",
        "import matplotlib.pyplot as plt"
      ],
      "execution_count": 1,
      "outputs": []
    },
    {
      "cell_type": "code",
      "metadata": {
        "id": "agQXqahJtrso",
        "colab": {
          "base_uri": "https://localhost:8080/",
          "height": 338
        },
        "outputId": "94c84d83-7fdf-4b6f-84a2-4d90506d3e99"
      },
      "source": [
        "embeddings = gensim.models.KeyedVectors.load_word2vec_format('GoogleNews-vectors-negative300.bin', binary = True) "
      ],
      "execution_count": null,
      "outputs": [
        {
          "output_type": "error",
          "ename": "FileNotFoundError",
          "evalue": "ignored",
          "traceback": [
            "\u001b[0;31m---------------------------------------------------------------------------\u001b[0m",
            "\u001b[0;31mFileNotFoundError\u001b[0m                         Traceback (most recent call last)",
            "\u001b[0;32m<ipython-input-2-940ef67e937a>\u001b[0m in \u001b[0;36m<module>\u001b[0;34m()\u001b[0m\n\u001b[0;32m----> 1\u001b[0;31m \u001b[0membeddings\u001b[0m \u001b[0;34m=\u001b[0m \u001b[0mgensim\u001b[0m\u001b[0;34m.\u001b[0m\u001b[0mmodels\u001b[0m\u001b[0;34m.\u001b[0m\u001b[0mKeyedVectors\u001b[0m\u001b[0;34m.\u001b[0m\u001b[0mload_word2vec_format\u001b[0m\u001b[0;34m(\u001b[0m\u001b[0;34m'GoogleNews-vectors-negative300.bin'\u001b[0m\u001b[0;34m,\u001b[0m \u001b[0mbinary\u001b[0m \u001b[0;34m=\u001b[0m \u001b[0;32mTrue\u001b[0m\u001b[0;34m)\u001b[0m\u001b[0;34m\u001b[0m\u001b[0;34m\u001b[0m\u001b[0m\n\u001b[0m",
            "\u001b[0;32m/usr/local/lib/python3.7/dist-packages/gensim/models/keyedvectors.py\u001b[0m in \u001b[0;36mload_word2vec_format\u001b[0;34m(cls, fname, fvocab, binary, encoding, unicode_errors, limit, datatype)\u001b[0m\n\u001b[1;32m   1436\u001b[0m         return _load_word2vec_format(\n\u001b[1;32m   1437\u001b[0m             \u001b[0mcls\u001b[0m\u001b[0;34m,\u001b[0m \u001b[0mfname\u001b[0m\u001b[0;34m,\u001b[0m \u001b[0mfvocab\u001b[0m\u001b[0;34m=\u001b[0m\u001b[0mfvocab\u001b[0m\u001b[0;34m,\u001b[0m \u001b[0mbinary\u001b[0m\u001b[0;34m=\u001b[0m\u001b[0mbinary\u001b[0m\u001b[0;34m,\u001b[0m \u001b[0mencoding\u001b[0m\u001b[0;34m=\u001b[0m\u001b[0mencoding\u001b[0m\u001b[0;34m,\u001b[0m \u001b[0municode_errors\u001b[0m\u001b[0;34m=\u001b[0m\u001b[0municode_errors\u001b[0m\u001b[0;34m,\u001b[0m\u001b[0;34m\u001b[0m\u001b[0;34m\u001b[0m\u001b[0m\n\u001b[0;32m-> 1438\u001b[0;31m             limit=limit, datatype=datatype)\n\u001b[0m\u001b[1;32m   1439\u001b[0m \u001b[0;34m\u001b[0m\u001b[0m\n\u001b[1;32m   1440\u001b[0m     \u001b[0;32mdef\u001b[0m \u001b[0mget_keras_embedding\u001b[0m\u001b[0;34m(\u001b[0m\u001b[0mself\u001b[0m\u001b[0;34m,\u001b[0m \u001b[0mtrain_embeddings\u001b[0m\u001b[0;34m=\u001b[0m\u001b[0;32mFalse\u001b[0m\u001b[0;34m)\u001b[0m\u001b[0;34m:\u001b[0m\u001b[0;34m\u001b[0m\u001b[0;34m\u001b[0m\u001b[0m\n",
            "\u001b[0;32m/usr/local/lib/python3.7/dist-packages/gensim/models/utils_any2vec.py\u001b[0m in \u001b[0;36m_load_word2vec_format\u001b[0;34m(cls, fname, fvocab, binary, encoding, unicode_errors, limit, datatype)\u001b[0m\n\u001b[1;32m    169\u001b[0m \u001b[0;34m\u001b[0m\u001b[0m\n\u001b[1;32m    170\u001b[0m     \u001b[0mlogger\u001b[0m\u001b[0;34m.\u001b[0m\u001b[0minfo\u001b[0m\u001b[0;34m(\u001b[0m\u001b[0;34m\"loading projection weights from %s\"\u001b[0m\u001b[0;34m,\u001b[0m \u001b[0mfname\u001b[0m\u001b[0;34m)\u001b[0m\u001b[0;34m\u001b[0m\u001b[0;34m\u001b[0m\u001b[0m\n\u001b[0;32m--> 171\u001b[0;31m     \u001b[0;32mwith\u001b[0m \u001b[0mutils\u001b[0m\u001b[0;34m.\u001b[0m\u001b[0msmart_open\u001b[0m\u001b[0;34m(\u001b[0m\u001b[0mfname\u001b[0m\u001b[0;34m)\u001b[0m \u001b[0;32mas\u001b[0m \u001b[0mfin\u001b[0m\u001b[0;34m:\u001b[0m\u001b[0;34m\u001b[0m\u001b[0;34m\u001b[0m\u001b[0m\n\u001b[0m\u001b[1;32m    172\u001b[0m         \u001b[0mheader\u001b[0m \u001b[0;34m=\u001b[0m \u001b[0mutils\u001b[0m\u001b[0;34m.\u001b[0m\u001b[0mto_unicode\u001b[0m\u001b[0;34m(\u001b[0m\u001b[0mfin\u001b[0m\u001b[0;34m.\u001b[0m\u001b[0mreadline\u001b[0m\u001b[0;34m(\u001b[0m\u001b[0;34m)\u001b[0m\u001b[0;34m,\u001b[0m \u001b[0mencoding\u001b[0m\u001b[0;34m=\u001b[0m\u001b[0mencoding\u001b[0m\u001b[0;34m)\u001b[0m\u001b[0;34m\u001b[0m\u001b[0;34m\u001b[0m\u001b[0m\n\u001b[1;32m    173\u001b[0m         \u001b[0mvocab_size\u001b[0m\u001b[0;34m,\u001b[0m \u001b[0mvector_size\u001b[0m \u001b[0;34m=\u001b[0m \u001b[0;34m(\u001b[0m\u001b[0mint\u001b[0m\u001b[0;34m(\u001b[0m\u001b[0mx\u001b[0m\u001b[0;34m)\u001b[0m \u001b[0;32mfor\u001b[0m \u001b[0mx\u001b[0m \u001b[0;32min\u001b[0m \u001b[0mheader\u001b[0m\u001b[0;34m.\u001b[0m\u001b[0msplit\u001b[0m\u001b[0;34m(\u001b[0m\u001b[0;34m)\u001b[0m\u001b[0;34m)\u001b[0m  \u001b[0;31m# throws for invalid file format\u001b[0m\u001b[0;34m\u001b[0m\u001b[0;34m\u001b[0m\u001b[0m\n",
            "\u001b[0;32m/usr/local/lib/python3.7/dist-packages/smart_open/smart_open_lib.py\u001b[0m in \u001b[0;36msmart_open\u001b[0;34m(***failed resolving arguments***)\u001b[0m\n\u001b[1;32m    481\u001b[0m     \u001b[0mignore_ext\u001b[0m \u001b[0;34m=\u001b[0m \u001b[0mignore_extension\u001b[0m\u001b[0;34m\u001b[0m\u001b[0;34m\u001b[0m\u001b[0m\n\u001b[1;32m    482\u001b[0m     \u001b[0;32mdel\u001b[0m \u001b[0mkwargs\u001b[0m\u001b[0;34m,\u001b[0m \u001b[0murl\u001b[0m\u001b[0;34m,\u001b[0m \u001b[0mmessage\u001b[0m\u001b[0;34m,\u001b[0m \u001b[0mignore_extension\u001b[0m\u001b[0;34m\u001b[0m\u001b[0;34m\u001b[0m\u001b[0m\n\u001b[0;32m--> 483\u001b[0;31m     \u001b[0;32mreturn\u001b[0m \u001b[0mopen\u001b[0m\u001b[0;34m(\u001b[0m\u001b[0;34m**\u001b[0m\u001b[0mlocals\u001b[0m\u001b[0;34m(\u001b[0m\u001b[0;34m)\u001b[0m\u001b[0;34m)\u001b[0m\u001b[0;34m\u001b[0m\u001b[0;34m\u001b[0m\u001b[0m\n\u001b[0m\u001b[1;32m    484\u001b[0m \u001b[0;34m\u001b[0m\u001b[0m\n\u001b[1;32m    485\u001b[0m \u001b[0;34m\u001b[0m\u001b[0m\n",
            "\u001b[0;32m/usr/local/lib/python3.7/dist-packages/smart_open/smart_open_lib.py\u001b[0m in \u001b[0;36mopen\u001b[0;34m(uri, mode, buffering, encoding, errors, newline, closefd, opener, ignore_ext, transport_params)\u001b[0m\n\u001b[1;32m    179\u001b[0m         \u001b[0mencoding\u001b[0m\u001b[0;34m=\u001b[0m\u001b[0mencoding\u001b[0m\u001b[0;34m,\u001b[0m\u001b[0;34m\u001b[0m\u001b[0;34m\u001b[0m\u001b[0m\n\u001b[1;32m    180\u001b[0m         \u001b[0merrors\u001b[0m\u001b[0;34m=\u001b[0m\u001b[0merrors\u001b[0m\u001b[0;34m,\u001b[0m\u001b[0;34m\u001b[0m\u001b[0;34m\u001b[0m\u001b[0m\n\u001b[0;32m--> 181\u001b[0;31m         \u001b[0mnewline\u001b[0m\u001b[0;34m=\u001b[0m\u001b[0mnewline\u001b[0m\u001b[0;34m,\u001b[0m\u001b[0;34m\u001b[0m\u001b[0;34m\u001b[0m\u001b[0m\n\u001b[0m\u001b[1;32m    182\u001b[0m     )\n\u001b[1;32m    183\u001b[0m     \u001b[0;32mif\u001b[0m \u001b[0mfobj\u001b[0m \u001b[0;32mis\u001b[0m \u001b[0;32mnot\u001b[0m \u001b[0;32mNone\u001b[0m\u001b[0;34m:\u001b[0m\u001b[0;34m\u001b[0m\u001b[0;34m\u001b[0m\u001b[0m\n",
            "\u001b[0;32m/usr/local/lib/python3.7/dist-packages/smart_open/smart_open_lib.py\u001b[0m in \u001b[0;36m_shortcut_open\u001b[0;34m(uri, mode, ignore_ext, buffering, encoding, errors, newline)\u001b[0m\n\u001b[1;32m    344\u001b[0m         \u001b[0mopen_kwargs\u001b[0m\u001b[0;34m[\u001b[0m\u001b[0;34m'errors'\u001b[0m\u001b[0;34m]\u001b[0m \u001b[0;34m=\u001b[0m \u001b[0merrors\u001b[0m\u001b[0;34m\u001b[0m\u001b[0;34m\u001b[0m\u001b[0m\n\u001b[1;32m    345\u001b[0m \u001b[0;34m\u001b[0m\u001b[0m\n\u001b[0;32m--> 346\u001b[0;31m     \u001b[0;32mreturn\u001b[0m \u001b[0m_builtin_open\u001b[0m\u001b[0;34m(\u001b[0m\u001b[0mlocal_path\u001b[0m\u001b[0;34m,\u001b[0m \u001b[0mmode\u001b[0m\u001b[0;34m,\u001b[0m \u001b[0mbuffering\u001b[0m\u001b[0;34m=\u001b[0m\u001b[0mbuffering\u001b[0m\u001b[0;34m,\u001b[0m \u001b[0;34m**\u001b[0m\u001b[0mopen_kwargs\u001b[0m\u001b[0;34m)\u001b[0m\u001b[0;34m\u001b[0m\u001b[0;34m\u001b[0m\u001b[0m\n\u001b[0m\u001b[1;32m    347\u001b[0m \u001b[0;34m\u001b[0m\u001b[0m\n\u001b[1;32m    348\u001b[0m \u001b[0;34m\u001b[0m\u001b[0m\n",
            "\u001b[0;31mFileNotFoundError\u001b[0m: [Errno 2] No such file or directory: 'GoogleNews-vectors-negative300.bin'"
          ]
        }
      ]
    },
    {
      "cell_type": "code",
      "metadata": {
        "id": "7Qa-LZj9trsp",
        "outputId": "22e027cc-785f-4930-ed57-490460dbb81f"
      },
      "source": [
        "embeddings.vector_size"
      ],
      "execution_count": null,
      "outputs": [
        {
          "output_type": "execute_result",
          "data": {
            "text/plain": [
              "300"
            ]
          },
          "metadata": {
            "tags": []
          },
          "execution_count": 168
        }
      ]
    },
    {
      "cell_type": "code",
      "metadata": {
        "id": "ReTMeQwgtrsq"
      },
      "source": [
        "def get_embedding(word):\n",
        "    return embeddings[word]/np.linalg.norm(embeddings[word])"
      ],
      "execution_count": null,
      "outputs": []
    },
    {
      "cell_type": "code",
      "metadata": {
        "id": "W3zY50gYtrsr"
      },
      "source": [
        "v1 = get_embedding('her')\n",
        "v2 = get_embedding('him')\n",
        "v = v1 - v2"
      ],
      "execution_count": null,
      "outputs": []
    },
    {
      "cell_type": "code",
      "metadata": {
        "id": "KTzZEXQttrss"
      },
      "source": [
        "words_part_d = ['boy', 'girl', 'brother', 'sister', 'king', 'queen', 'he', 'she', 'john', 'mary', \"man\", \"woman\", \"men\", \"women\", \"him\", \"her\",\"grandfather\", \"grandmother\",\"wall\",\"tree\",\"sky\"]\n",
        "projections = [ np.dot(get_embedding(w), v) for w in words_part_d ]"
      ],
      "execution_count": null,
      "outputs": []
    },
    {
      "cell_type": "code",
      "metadata": {
        "id": "wbFcVzYttrst",
        "outputId": "e06416e1-52e1-43f9-fbaa-e20d7a207be0"
      },
      "source": [
        "for i in range(len(words_part_d)):\n",
        "    print(words_part_d[i], projections[i])"
      ],
      "execution_count": null,
      "outputs": [
        {
          "output_type": "stream",
          "text": [
            "boy -0.09744068\n",
            "girl 0.17116171\n",
            "brother -0.16872066\n",
            "sister 0.22305247\n",
            "king -0.18335846\n",
            "queen 0.22377278\n",
            "he -0.283926\n",
            "she 0.39726764\n",
            "john -0.069021866\n",
            "mary 0.13073638\n",
            "man -0.18897212\n",
            "woman 0.2209714\n",
            "men -0.08920882\n",
            "women 0.22242141\n",
            "him -0.51378083\n",
            "her 0.51378083\n",
            "grandfather -0.11243805\n",
            "grandmother 0.13369119\n",
            "wall -0.12286216\n",
            "tree -0.023387928\n",
            "sky -0.04408122\n"
          ],
          "name": "stdout"
        }
      ]
    },
    {
      "cell_type": "code",
      "metadata": {
        "id": "or1woY3Ytrsu"
      },
      "source": [
        "words_part_d2 = ['leader', 'nurse', 'doctor', 'pilot', 'teacher', 'engineer', 'carpenter', 'driver', 'professor','judge', 'singer', 'chef', 'accountant', 'clergy','salesperson', 'designer', 'soldier', 'housekeeper', 'fighter','police','astronaut','plumber', \"secretary\", \"manager\", \"therapist\", \"writer\", \"farmer\", \"architect\", \"dressmaker\", \"homemaker\", \"gardener\", \"firefighter\", \"trader\", \"scientist\",\"shooter\"]"
      ],
      "execution_count": null,
      "outputs": []
    },
    {
      "cell_type": "code",
      "metadata": {
        "id": "xrd-lP8dtrsv"
      },
      "source": [
        "def print_original_projections(word_list, v):\n",
        "    projections = [ (w, np.dot(get_embedding(w), v)) for w in word_list ]\n",
        "    projections.sort(key=lambda x:x[1])\n",
        "    for p in projections:\n",
        "        print(p[0], p[1])\n",
        "    \n",
        "    ps = [ a[1] for a in projections]\n",
        "    print(\"Variance:\",np.var(ps))\n",
        "\n",
        "def print_projections(word_list, v, embeddings):\n",
        "    projections = [ (w, np.dot(embeddings[w], v)) for w in word_list ]\n",
        "    projections.sort(key=lambda x:x[1])\n",
        "    for p in projections:\n",
        "        print(p[0], p[1])\n",
        "    \n",
        "    ps = [ a[1] for a in projections]\n",
        "    print(\"Variance:\",np.var(ps))"
      ],
      "execution_count": null,
      "outputs": []
    },
    {
      "cell_type": "code",
      "metadata": {
        "id": "7CNtLjEitrsx",
        "outputId": "803ac5bb-2abb-472f-fdcb-4f491fdfa437"
      },
      "source": [
        "print_original_projections(words_part_d2, v)"
      ],
      "execution_count": null,
      "outputs": [
        {
          "output_type": "stream",
          "text": [
            "leader -0.14819138\n",
            "fighter -0.11125871\n",
            "shooter -0.09052012\n",
            "clergy -0.082308695\n",
            "doctor -0.078965686\n",
            "manager -0.07199802\n",
            "architect -0.065194875\n",
            "plumber -0.06510356\n",
            "engineer -0.054520488\n",
            "driver -0.04791988\n",
            "trader -0.047388367\n",
            "carpenter -0.039758757\n",
            "judge -0.030959819\n",
            "police -0.025292646\n",
            "farmer -0.009981964\n",
            "writer 0.0008649267\n",
            "soldier 0.0031656474\n",
            "pilot 0.010155176\n",
            "secretary 0.0149815865\n",
            "scientist 0.021676268\n",
            "firefighter 0.026661104\n",
            "accountant 0.03398322\n",
            "salesperson 0.041394275\n",
            "professor 0.043320153\n",
            "chef 0.04665868\n",
            "astronaut 0.07401569\n",
            "therapist 0.083251916\n",
            "gardener 0.08771912\n",
            "teacher 0.09447907\n",
            "singer 0.1326055\n",
            "housekeeper 0.13424286\n",
            "designer 0.1612786\n",
            "nurse 0.18665528\n",
            "dressmaker 0.22601292\n",
            "homemaker 0.29938358\n",
            "Variance: 0.009669786\n"
          ],
          "name": "stdout"
        }
      ]
    },
    {
      "cell_type": "code",
      "metadata": {
        "id": "sJAVEyXOtrsz"
      },
      "source": [
        "D_1 = get_embedding('she') - get_embedding('he')\n",
        "D_2 = get_embedding('woman') - get_embedding('man')\n",
        "D_3 = get_embedding('her') - get_embedding('him')\n",
        "D_4 = get_embedding('women') - get_embedding('men')\n",
        "D_5 = get_embedding('female') - get_embedding('male')\n",
        "D_6 = get_embedding('herself') - get_embedding('himself')\n",
        "D_7 = get_embedding('girl') - get_embedding('boy')\n",
        "D_8 = get_embedding('mother') - get_embedding('father')\n",
        "D_9 = get_embedding('daughter') - get_embedding('son')\n",
        "\n",
        "D = [D_1, D_2, D_3, D_4, D_5,D_6, D_7, D_8, D_9]"
      ],
      "execution_count": null,
      "outputs": []
    },
    {
      "cell_type": "code",
      "metadata": {
        "id": "KGdrSrOHtrsz"
      },
      "source": [
        "E_1 = (\"she\", \"he\")\n",
        "E_2 = (\"woman\", \"man\")\n",
        "E_3 = (\"her\", \"him\")\n",
        "E_4 = (\"women\", \"men\")\n",
        "E_5 = (\"female\", \"male\")\n",
        "E_6 = (\"herself\", \"himself\")\n",
        "E_7 = (\"girl\", \"boy\")\n",
        "E_8 = (\"mother\", \"father\")\n",
        "E_9 = (\"daughter\", \"son\")\n",
        "E = [E_1, E_2, E_3, E_4, E_5, E_6, E_7, E_8, E_9]"
      ],
      "execution_count": null,
      "outputs": []
    },
    {
      "cell_type": "code",
      "metadata": {
        "id": "cl7LxZ89trs0",
        "outputId": "38c6c8c6-8f0c-42dc-90c5-f9f65c61b69c"
      },
      "source": [
        "pca = PCA(n_components=9)\n",
        "pca.fit(D)"
      ],
      "execution_count": null,
      "outputs": [
        {
          "output_type": "execute_result",
          "data": {
            "text/plain": [
              "PCA(n_components=9)"
            ]
          },
          "metadata": {
            "tags": []
          },
          "execution_count": 215
        }
      ]
    },
    {
      "cell_type": "code",
      "metadata": {
        "id": "aDC3ApM8trs1",
        "outputId": "77f4c61b-a9a3-455f-cbd2-5b5888059dc1"
      },
      "source": [
        "ratio = pca.explained_variance_ratio_\n",
        "ratio"
      ],
      "execution_count": null,
      "outputs": [
        {
          "output_type": "execute_result",
          "data": {
            "text/plain": [
              "array([3.93027059e-01, 1.82305102e-01, 1.31668940e-01, 9.55571926e-02,\n",
              "       7.61819579e-02, 5.98612122e-02, 3.47270180e-02, 2.66715179e-02,\n",
              "       8.35832369e-33])"
            ]
          },
          "metadata": {
            "tags": []
          },
          "execution_count": 216
        }
      ]
    },
    {
      "cell_type": "code",
      "metadata": {
        "id": "ll_WNaoBtrs2",
        "outputId": "651f5d15-c432-4b36-91c6-a8d4f426c3c8"
      },
      "source": [
        "ratio[0]+ratio[1]+ratio[2]+ratio[3]"
      ],
      "execution_count": null,
      "outputs": [
        {
          "output_type": "execute_result",
          "data": {
            "text/plain": [
              "0.802558294006121"
            ]
          },
          "metadata": {
            "tags": []
          },
          "execution_count": 217
        }
      ]
    },
    {
      "cell_type": "code",
      "metadata": {
        "id": "e6avHrwNtrs2"
      },
      "source": [
        "B = [pca.components_[0], pca.components_[1], pca.components_[2],  pca.components_[3]]"
      ],
      "execution_count": null,
      "outputs": []
    },
    {
      "cell_type": "code",
      "metadata": {
        "id": "VXF4SAxWtrs3"
      },
      "source": [
        "def calculate_vb(v, B):\n",
        "    v_b = np.zeros(B[0].size)\n",
        "    for b in B:\n",
        "        v_b += (np.dot(v, b)) * b\n",
        "    return v_b"
      ],
      "execution_count": null,
      "outputs": []
    },
    {
      "cell_type": "code",
      "metadata": {
        "id": "Ibp5D3Gvtrs3"
      },
      "source": [
        "new_embs = dict()\n",
        "\n",
        "for w in words_part_d2:\n",
        "    old_emb = get_embedding(w) #embeddings[w] \n",
        "    \n",
        "    vector = old_emb - calculate_vb(old_emb, B)\n",
        "    new_emb = (vector)/np.linalg.norm(vector)\n",
        "    new_embs[w] = new_emb"
      ],
      "execution_count": null,
      "outputs": []
    },
    {
      "cell_type": "code",
      "metadata": {
        "id": "QoymvtFVtrs4",
        "outputId": "b233b444-8b2f-4dc6-f233-43cd64439449"
      },
      "source": [
        "print_projections(words_part_d2, v, new_embs)"
      ],
      "execution_count": null,
      "outputs": [
        {
          "output_type": "stream",
          "text": [
            "carpenter -0.08746418779772805\n",
            "engineer -0.06553996720213476\n",
            "architect -0.05521736020980563\n",
            "plumber -0.051086211319805945\n",
            "firefighter -0.04986672209586168\n",
            "farmer -0.03651670522379093\n",
            "police -0.03480592492391453\n",
            "driver -0.03209515392603208\n",
            "trader -0.02956020211504652\n",
            "chef -0.027635020494126916\n",
            "gardener -0.02293137393747674\n",
            "pilot -0.02016577956469696\n",
            "fighter -0.015031886695172898\n",
            "manager -0.010388134395389886\n",
            "soldier -0.010126714019039446\n",
            "professor -0.0090956322095646\n",
            "scientist -0.004912186745433526\n",
            "shooter -0.00401308991285192\n",
            "accountant -0.002729950300803974\n",
            "doctor 0.0014375098330559298\n",
            "writer 0.010072486444821012\n",
            "clergy 0.010351344533189307\n",
            "leader 0.01042872064403335\n",
            "singer 0.018959723159912657\n",
            "secretary 0.02175249202851428\n",
            "astronaut 0.024290868649358952\n",
            "designer 0.02654014912601993\n",
            "judge 0.027687148641466656\n",
            "salesperson 0.029379634390251617\n",
            "therapist 0.03507286360987232\n",
            "teacher 0.04232220882468639\n",
            "housekeeper 0.047556072712211614\n",
            "dressmaker 0.06271148166766677\n",
            "homemaker 0.07685974460726142\n",
            "nurse 0.10654211571317623\n",
            "Variance: 0.0016384223602803616\n"
          ],
          "name": "stdout"
        }
      ]
    },
    {
      "cell_type": "code",
      "metadata": {
        "id": "7NTTQR1Qtrs5"
      },
      "source": [
        "def equalize_a_set(E):\n",
        "    mu = np.zeros(get_embedding(E[0]).size)\n",
        "    for w in E:\n",
        "        e = get_embedding(w)\n",
        "        mu += e/len(E)\n",
        "            \n",
        "    v1 = mu - calculate_vb(mu, B)\n",
        "    \n",
        "    for w in E:\n",
        "        e = get_embedding(w)\n",
        "        vec = calculate_vb(e, B)\n",
        "        new_embs[w] = v1 + np.sqrt(1-(np.linalg.norm(v1))**2) * vec/np.linalg.norm(vec)"
      ],
      "execution_count": null,
      "outputs": []
    },
    {
      "cell_type": "code",
      "metadata": {
        "id": "TeeyHjFUtrs6"
      },
      "source": [
        "for E_curr in E:\n",
        "    equalize_a_set(E_curr)"
      ],
      "execution_count": null,
      "outputs": []
    },
    {
      "cell_type": "code",
      "metadata": {
        "id": "1-f1qyMbtrs6",
        "outputId": "0e29d587-c170-4a6e-8e2c-d1257ca0602c"
      },
      "source": [
        "new_v = new_embs['her'] - new_embs['him']\n",
        "print_projections(words_part_d2, new_v, new_embs)"
      ],
      "execution_count": null,
      "outputs": [
        {
          "output_type": "stream",
          "text": [
            "nurse -1.6653345369377348e-16\n",
            "police -1.249000902703301e-16\n",
            "firefighter -1.214306433183765e-16\n",
            "homemaker -1.0408340855860843e-16\n",
            "housekeeper -9.020562075079397e-17\n",
            "dressmaker -9.020562075079397e-17\n",
            "gardener -7.28583859910259e-17\n",
            "salesperson -6.938893903907228e-17\n",
            "teacher -6.245004513516506e-17\n",
            "driver -5.898059818321144e-17\n",
            "singer -5.551115123125783e-17\n",
            "soldier -5.551115123125783e-17\n",
            "judge -4.85722573273506e-17\n",
            "therapist -4.85722573273506e-17\n",
            "pilot -3.642919299551295e-17\n",
            "manager -3.642919299551295e-17\n",
            "shooter -3.469446951953614e-17\n",
            "chef -3.2959746043559335e-17\n",
            "accountant -6.938893903907228e-18\n",
            "designer -3.469446951953614e-18\n",
            "clergy 3.469446951953614e-18\n",
            "trader 3.469446951953614e-18\n",
            "professor 1.0408340855860843e-17\n",
            "astronaut 1.734723475976807e-17\n",
            "doctor 2.6020852139652106e-17\n",
            "fighter 3.122502256758253e-17\n",
            "scientist 3.122502256758253e-17\n",
            "plumber 3.8163916471489756e-17\n",
            "farmer 4.163336342344337e-17\n",
            "carpenter 4.85722573273506e-17\n",
            "writer 4.85722573273506e-17\n",
            "engineer 5.898059818321144e-17\n",
            "secretary 7.632783294297951e-17\n",
            "architect 1.0755285551056204e-16\n",
            "leader 1.5265566588595902e-16\n",
            "Variance: 4.645028588320072e-33\n"
          ],
          "name": "stdout"
        }
      ]
    },
    {
      "cell_type": "code",
      "metadata": {
        "id": "dRToz90Utrs7"
      },
      "source": [
        ""
      ],
      "execution_count": null,
      "outputs": []
    },
    {
      "cell_type": "code",
      "metadata": {
        "colab": {
          "base_uri": "https://localhost:8080/"
        },
        "id": "4b6U1AdeKYbn",
        "outputId": "41f853a5-039f-480c-96af-1c4baedf24b4"
      },
      "source": [
        "!pip install adjustText"
      ],
      "execution_count": null,
      "outputs": [
        {
          "output_type": "stream",
          "text": [
            "Collecting adjustText\n",
            "  Downloading https://files.pythonhosted.org/packages/9e/15/4157718bf323fd5f5b81c891c660d0f388e042d2689a558bf1389632dc44/adjustText-0.7.3.tar.gz\n",
            "Requirement already satisfied: numpy in /usr/local/lib/python3.7/dist-packages (from adjustText) (1.19.5)\n",
            "Requirement already satisfied: matplotlib in /usr/local/lib/python3.7/dist-packages (from adjustText) (3.2.2)\n",
            "Requirement already satisfied: cycler>=0.10 in /usr/local/lib/python3.7/dist-packages (from matplotlib->adjustText) (0.10.0)\n",
            "Requirement already satisfied: python-dateutil>=2.1 in /usr/local/lib/python3.7/dist-packages (from matplotlib->adjustText) (2.8.1)\n",
            "Requirement already satisfied: pyparsing!=2.0.4,!=2.1.2,!=2.1.6,>=2.0.1 in /usr/local/lib/python3.7/dist-packages (from matplotlib->adjustText) (2.4.7)\n",
            "Requirement already satisfied: kiwisolver>=1.0.1 in /usr/local/lib/python3.7/dist-packages (from matplotlib->adjustText) (1.3.1)\n",
            "Requirement already satisfied: six in /usr/local/lib/python3.7/dist-packages (from cycler>=0.10->matplotlib->adjustText) (1.15.0)\n",
            "Building wheels for collected packages: adjustText\n",
            "  Building wheel for adjustText (setup.py) ... \u001b[?25l\u001b[?25hdone\n",
            "  Created wheel for adjustText: filename=adjustText-0.7.3-cp37-none-any.whl size=7097 sha256=9fc9c5d635fc16116e4a225c3ea4fcd4bba221ebdaf595046c525c09aaadaaf9\n",
            "  Stored in directory: /root/.cache/pip/wheels/41/95/74/7d347e136d672f8bc28e937032bc92baf4f80856763a7e7b72\n",
            "Successfully built adjustText\n",
            "Installing collected packages: adjustText\n",
            "Successfully installed adjustText-0.7.3\n"
          ],
          "name": "stdout"
        }
      ]
    },
    {
      "cell_type": "code",
      "metadata": {
        "id": "XqDbAzzFKUzj"
      },
      "source": [
        "import matplotlib.pyplot as plt\n",
        "from adjustText import adjust_text"
      ],
      "execution_count": null,
      "outputs": []
    },
    {
      "cell_type": "code",
      "metadata": {
        "id": "UsrC1nkHtrs8"
      },
      "source": [
        "def turnintoplot(text):\n",
        "  lines = text.split('\\n')\n",
        "  words = []\n",
        "  vals = []\n",
        "  for l in lines:\n",
        "    l = l.split()\n",
        "    if len(l) < 2:\n",
        "      continue\n",
        "    words.append(l[0].strip())\n",
        "    vals.append(float(l[1]))\n",
        "  \n",
        "  fig, ax = plt.subplots(figsize=(8,3))\n",
        "  plt.scatter(vals, [0] * len(vals), s=0)\n",
        "  ax.spines['right'].set_visible(False)\n",
        "  ax.spines['top'].set_visible(False)\n",
        "  ax.spines['left'].set_visible(False)\n",
        "  plt.yticks([], \"\")\n",
        "  texts = [plt.text(vals[i], 0, words[i], ha='center', va='center') for i in range(len(vals))]\n",
        "  adjust_text(texts)"
      ],
      "execution_count": null,
      "outputs": []
    },
    {
      "cell_type": "code",
      "metadata": {
        "colab": {
          "base_uri": "https://localhost:8080/",
          "height": 211
        },
        "id": "tpwNzwr_I4Hr",
        "outputId": "2ffb4732-75dc-48e3-8fcb-2c7b39d9ac4e"
      },
      "source": [
        "text = '''leader -0.14819138\n",
        "fighter -0.11125871\n",
        "shooter -0.09052012\n",
        "clergy -0.082308695\n",
        "doctor -0.078965686\n",
        "manager -0.07199802\n",
        "architect -0.065194875\n",
        "plumber -0.06510356\n",
        "engineer -0.054520488\n",
        "driver -0.04791988\n",
        "trader -0.047388367\n",
        "carpenter -0.039758757\n",
        "judge -0.030959819\n",
        "police -0.025292646\n",
        "farmer -0.009981964\n",
        "writer 0.0008649267\n",
        "soldier 0.0031656474\n",
        "pilot 0.010155176\n",
        "secretary 0.0149815865\n",
        "scientist 0.021676268\n",
        "firefighter 0.026661104\n",
        "accountant 0.03398322\n",
        "salesperson 0.041394275\n",
        "professor 0.043320153\n",
        "chef 0.04665868\n",
        "astronaut 0.07401569\n",
        "therapist 0.083251916\n",
        "gardener 0.08771912\n",
        "teacher 0.09447907\n",
        "singer 0.1326055\n",
        "housekeeper 0.13424286\n",
        "designer 0.1612786\n",
        "nurse 0.18665528\n",
        "dressmaker 0.22601292\n",
        "homemaker 0.29938358'''\n",
        "turnintoplot(text)"
      ],
      "execution_count": null,
      "outputs": [
        {
          "output_type": "display_data",
          "data": {
            "image/png": "[encoded data removed]",
            "text/plain": [
              "<Figure size 576x216 with 1 Axes>"
            ]
          },
          "metadata": {
            "tags": [],
            "needs_background": "light"
          }
        }
      ]
    },
    {
      "cell_type": "code",
      "metadata": {
        "colab": {
          "base_uri": "https://localhost:8080/",
          "height": 157
        },
        "id": "AHu23T8-QDro",
        "outputId": "bf019cf8-d927-4b25-ad4d-f49aba181c99"
      },
      "source": [
        "text = '''boy -0.09744068\n",
        "girl 0.17116171\n",
        "brother -0.16872066\n",
        "sister 0.22305247\n",
        "king -0.18335846\n",
        "queen 0.22377278\n",
        "he -0.283926\n",
        "she 0.39726764\n",
        "john -0.069021866\n",
        "mary 0.13073638\n",
        "man -0.18897212\n",
        "woman 0.2209714\n",
        "men -0.08920882\n",
        "women 0.22242141\n",
        "him -0.51378083\n",
        "her 0.51378083\n",
        "grandfather -0.11243805\n",
        "grandmother 0.13369119\n",
        "wall -0.12286216\n",
        "tree -0.023387928\n",
        "sky -0.04408122'''\n",
        "turnintoplot(text)"
      ],
      "execution_count": null,
      "outputs": [
        {
          "output_type": "display_data",
          "data": {
            "image/png": "[encoded data removed]",
            "text/plain": [
              "<Figure size 576x144 with 1 Axes>"
            ]
          },
          "metadata": {
            "tags": [],
            "needs_background": "light"
          }
        }
      ]
    },
    {
      "cell_type": "code",
      "metadata": {
        "colab": {
          "base_uri": "https://localhost:8080/",
          "height": 211
        },
        "id": "ZkF1gD43QX_7",
        "outputId": "f00d26f1-b687-4c6f-9ca8-d8ea33c4b42c"
      },
      "source": [
        "text='''carpenter -0.08746418779772805\n",
        "engineer -0.06553996720213476\n",
        "architect -0.05521736020980563\n",
        "plumber -0.051086211319805945\n",
        "firefighter -0.04986672209586168\n",
        "farmer -0.03651670522379093\n",
        "police -0.03480592492391453\n",
        "driver -0.03209515392603208\n",
        "trader -0.02956020211504652\n",
        "chef -0.027635020494126916\n",
        "gardener -0.02293137393747674\n",
        "pilot -0.02016577956469696\n",
        "fighter -0.015031886695172898\n",
        "manager -0.010388134395389886\n",
        "soldier -0.010126714019039446\n",
        "professor -0.0090956322095646\n",
        "scientist -0.004912186745433526\n",
        "shooter -0.00401308991285192\n",
        "accountant -0.002729950300803974\n",
        "doctor 0.0014375098330559298\n",
        "writer 0.010072486444821012\n",
        "clergy 0.010351344533189307\n",
        "leader 0.01042872064403335\n",
        "singer 0.018959723159912657\n",
        "secretary 0.02175249202851428\n",
        "astronaut 0.024290868649358952\n",
        "designer 0.02654014912601993\n",
        "judge 0.027687148641466656\n",
        "salesperson 0.029379634390251617\n",
        "therapist 0.03507286360987232\n",
        "teacher 0.04232220882468639\n",
        "housekeeper 0.047556072712211614\n",
        "dressmaker 0.06271148166766677\n",
        "homemaker 0.07685974460726142\n",
        "nurse 0.10654211571317623'''\n",
        "turnintoplot(text)"
      ],
      "execution_count": null,
      "outputs": [
        {
          "output_type": "display_data",
          "data": {
            "image/png": "[encoded data removed]",
            "text/plain": [
              "<Figure size 576x216 with 1 Axes>"
            ]
          },
          "metadata": {
            "tags": [],
            "needs_background": "light"
          }
        }
      ]
    },
    {
      "cell_type": "code",
      "metadata": {
        "colab": {
          "base_uri": "https://localhost:8080/",
          "height": 224
        },
        "id": "h1Z7t9U1QoUD",
        "outputId": "edadf1ea-edc6-42d8-fa87-187233a5a264"
      },
      "source": [
        "text='''\n",
        "nurse -1.6653345369377348e-16\n",
        "police -1.249000902703301e-16\n",
        "firefighter -1.214306433183765e-16\n",
        "homemaker -1.0408340855860843e-16\n",
        "housekeeper -9.020562075079397e-17\n",
        "dressmaker -9.020562075079397e-17\n",
        "gardener -7.28583859910259e-17\n",
        "salesperson -6.938893903907228e-17\n",
        "teacher -6.245004513516506e-17\n",
        "driver -5.898059818321144e-17\n",
        "singer -5.551115123125783e-17\n",
        "soldier -5.551115123125783e-17\n",
        "judge -4.85722573273506e-17\n",
        "therapist -4.85722573273506e-17\n",
        "pilot -3.642919299551295e-17\n",
        "manager -3.642919299551295e-17\n",
        "shooter -3.469446951953614e-17\n",
        "chef -3.2959746043559335e-17\n",
        "accountant -6.938893903907228e-18\n",
        "designer -3.469446951953614e-18\n",
        "clergy 3.469446951953614e-18\n",
        "trader 3.469446951953614e-18\n",
        "professor 1.0408340855860843e-17\n",
        "astronaut 1.734723475976807e-17\n",
        "doctor 2.6020852139652106e-17\n",
        "fighter 3.122502256758253e-17\n",
        "scientist 3.122502256758253e-17\n",
        "plumber 3.8163916471489756e-17\n",
        "farmer 4.163336342344337e-17\n",
        "carpenter 4.85722573273506e-17\n",
        "writer 4.85722573273506e-17\n",
        "engineer 5.898059818321144e-17\n",
        "secretary 7.632783294297951e-17\n",
        "architect 1.0755285551056204e-16\n",
        "leader 1.5265566588595902e-16'''\n",
        "turnintoplot(text)"
      ],
      "execution_count": null,
      "outputs": [
        {
          "output_type": "display_data",
          "data": {
            "image/png": "[encoded data removed]",
            "text/plain": [
              "<Figure size 576x216 with 1 Axes>"
            ]
          },
          "metadata": {
            "tags": [],
            "needs_background": "light"
          }
        }
      ]
    }
  ]
}